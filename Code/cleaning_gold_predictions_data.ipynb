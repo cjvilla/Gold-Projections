{
  "nbformat": 4,
  "nbformat_minor": 0,
  "metadata": {
    "colab": {
      "name": "cleaning_gold_predictions_data.ipynb",
      "provenance": [],
      "authorship_tag": "ABX9TyPEIQ9JA8C6/Xtkkh/9aata",
      "include_colab_link": true
    },
    "kernelspec": {
      "name": "python3",
      "display_name": "Python 3"
    },
    "language_info": {
      "name": "python"
    }
  },
  "cells": [
    {
      "cell_type": "markdown",
      "metadata": {
        "id": "view-in-github",
        "colab_type": "text"
      },
      "source": [
        "<a href=\"https://colab.research.google.com/github/cjvilla/Gold-Projections/blob/main/Code/cleaning_gold_predictions_data.ipynb\" target=\"_parent\"><img src=\"https://colab.research.google.com/assets/colab-badge.svg\" alt=\"Open In Colab\"/></a>"
      ]
    },
    {
      "cell_type": "markdown",
      "metadata": {
        "id": "j0nmZaxnaC7_"
      },
      "source": [
        "# **Imported Modules**"
      ]
    },
    {
      "cell_type": "code",
      "metadata": {
        "id": "y3gQ-SZ-aFCe",
        "colab": {
          "base_uri": "https://localhost:8080/"
        },
        "outputId": "b59d13de-09fd-4cb9-bd49-bb3536d30765"
      },
      "source": [
        "import pandas as pd\n",
        "import numpy as np\n",
        "import os\n",
        "\n",
        "from google.colab import drive\n",
        "drive.mount('/content/drive')"
      ],
      "execution_count": 1,
      "outputs": [
        {
          "output_type": "stream",
          "text": [
            "Mounted at /content/drive\n"
          ],
          "name": "stdout"
        }
      ]
    },
    {
      "cell_type": "code",
      "metadata": {
        "id": "gOAx53cdBOLY"
      },
      "source": [
        ""
      ],
      "execution_count": null,
      "outputs": []
    },
    {
      "cell_type": "code",
      "metadata": {
        "id": "xy1axE2xaHR3",
        "colab": {
          "base_uri": "https://localhost:8080/",
          "height": 205
        },
        "outputId": "4c2af090-a893-4c44-b349-7113ed508e40"
      },
      "source": [
        "prediction_df = pd.read_csv('/content/drive/MyDrive/Gold-Projections/celine-work/final_gold_predictions.csv')\n",
        "prediction_df.head()"
      ],
      "execution_count": 6,
      "outputs": [
        {
          "output_type": "execute_result",
          "data": {
            "text/html": [
              "<div>\n",
              "<style scoped>\n",
              "    .dataframe tbody tr th:only-of-type {\n",
              "        vertical-align: middle;\n",
              "    }\n",
              "\n",
              "    .dataframe tbody tr th {\n",
              "        vertical-align: top;\n",
              "    }\n",
              "\n",
              "    .dataframe thead th {\n",
              "        text-align: right;\n",
              "    }\n",
              "</style>\n",
              "<table border=\"1\" class=\"dataframe\">\n",
              "  <thead>\n",
              "    <tr style=\"text-align: right;\">\n",
              "      <th></th>\n",
              "      <th>Year</th>\n",
              "      <th>Month</th>\n",
              "      <th>Inflation_Value</th>\n",
              "      <th>dollar_index</th>\n",
              "      <th>us_dollar</th>\n",
              "      <th>pound</th>\n",
              "      <th>indian_rupee</th>\n",
              "      <th>south_african_rand</th>\n",
              "      <th>australian_dollar</th>\n",
              "    </tr>\n",
              "  </thead>\n",
              "  <tbody>\n",
              "    <tr>\n",
              "      <th>0</th>\n",
              "      <td>1979</td>\n",
              "      <td>1</td>\n",
              "      <td>9.3</td>\n",
              "      <td>86.239</td>\n",
              "      <td>227.290909</td>\n",
              "      <td>113.327273</td>\n",
              "      <td>1852.859091</td>\n",
              "      <td>197.018182</td>\n",
              "      <td>198.600000</td>\n",
              "    </tr>\n",
              "    <tr>\n",
              "      <th>1</th>\n",
              "      <td>1979</td>\n",
              "      <td>2</td>\n",
              "      <td>9.9</td>\n",
              "      <td>87.082</td>\n",
              "      <td>245.690000</td>\n",
              "      <td>122.555000</td>\n",
              "      <td>2010.370000</td>\n",
              "      <td>209.860000</td>\n",
              "      <td>216.650000</td>\n",
              "    </tr>\n",
              "    <tr>\n",
              "      <th>2</th>\n",
              "      <td>1979</td>\n",
              "      <td>3</td>\n",
              "      <td>10.1</td>\n",
              "      <td>87.280</td>\n",
              "      <td>242.063636</td>\n",
              "      <td>118.795454</td>\n",
              "      <td>1974.931818</td>\n",
              "      <td>204.359091</td>\n",
              "      <td>215.945454</td>\n",
              "    </tr>\n",
              "    <tr>\n",
              "      <th>3</th>\n",
              "      <td>1979</td>\n",
              "      <td>4</td>\n",
              "      <td>10.5</td>\n",
              "      <td>88.228</td>\n",
              "      <td>238.685714</td>\n",
              "      <td>115.138095</td>\n",
              "      <td>1956.809524</td>\n",
              "      <td>202.347619</td>\n",
              "      <td>215.414286</td>\n",
              "    </tr>\n",
              "    <tr>\n",
              "      <th>4</th>\n",
              "      <td>1979</td>\n",
              "      <td>5</td>\n",
              "      <td>10.9</td>\n",
              "      <td>89.270</td>\n",
              "      <td>257.800000</td>\n",
              "      <td>125.230435</td>\n",
              "      <td>2119.934783</td>\n",
              "      <td>217.695652</td>\n",
              "      <td>233.165217</td>\n",
              "    </tr>\n",
              "  </tbody>\n",
              "</table>\n",
              "</div>"
            ],
            "text/plain": [
              "   Year  Month  ...  south_african_rand  australian_dollar\n",
              "0  1979      1  ...          197.018182         198.600000\n",
              "1  1979      2  ...          209.860000         216.650000\n",
              "2  1979      3  ...          204.359091         215.945454\n",
              "3  1979      4  ...          202.347619         215.414286\n",
              "4  1979      5  ...          217.695652         233.165217\n",
              "\n",
              "[5 rows x 9 columns]"
            ]
          },
          "metadata": {
            "tags": []
          },
          "execution_count": 6
        }
      ]
    },
    {
      "cell_type": "code",
      "metadata": {
        "colab": {
          "base_uri": "https://localhost:8080/",
          "height": 205
        },
        "id": "WsHJHs6w9Baf",
        "outputId": "512bfb0b-61f5-46ee-b2fd-707fcf22961c"
      },
      "source": [
        "prediction_df['Date'] = prediction_df.Month.astype(str) + '/' +  prediction_df.Year.astype(str)\n",
        "prediction_df['Date'] = pd.to_datetime(prediction_df['Date'])\n",
        "prediction_df['Date'] = prediction_df['Date'].dt.date.apply(lambda x: x.strftime('%m/%Y'))\n",
        "prediction_df.head()"
      ],
      "execution_count": 19,
      "outputs": [
        {
          "output_type": "execute_result",
          "data": {
            "text/html": [
              "<div>\n",
              "<style scoped>\n",
              "    .dataframe tbody tr th:only-of-type {\n",
              "        vertical-align: middle;\n",
              "    }\n",
              "\n",
              "    .dataframe tbody tr th {\n",
              "        vertical-align: top;\n",
              "    }\n",
              "\n",
              "    .dataframe thead th {\n",
              "        text-align: right;\n",
              "    }\n",
              "</style>\n",
              "<table border=\"1\" class=\"dataframe\">\n",
              "  <thead>\n",
              "    <tr style=\"text-align: right;\">\n",
              "      <th></th>\n",
              "      <th>Year</th>\n",
              "      <th>Month</th>\n",
              "      <th>Inflation_Value</th>\n",
              "      <th>dollar_index</th>\n",
              "      <th>us_dollar</th>\n",
              "      <th>pound</th>\n",
              "      <th>indian_rupee</th>\n",
              "      <th>south_african_rand</th>\n",
              "      <th>australian_dollar</th>\n",
              "      <th>Date</th>\n",
              "    </tr>\n",
              "  </thead>\n",
              "  <tbody>\n",
              "    <tr>\n",
              "      <th>0</th>\n",
              "      <td>1979</td>\n",
              "      <td>1</td>\n",
              "      <td>9.3</td>\n",
              "      <td>86.239</td>\n",
              "      <td>227.290909</td>\n",
              "      <td>113.327273</td>\n",
              "      <td>1852.859091</td>\n",
              "      <td>197.018182</td>\n",
              "      <td>198.600000</td>\n",
              "      <td>01/1979</td>\n",
              "    </tr>\n",
              "    <tr>\n",
              "      <th>1</th>\n",
              "      <td>1979</td>\n",
              "      <td>2</td>\n",
              "      <td>9.9</td>\n",
              "      <td>87.082</td>\n",
              "      <td>245.690000</td>\n",
              "      <td>122.555000</td>\n",
              "      <td>2010.370000</td>\n",
              "      <td>209.860000</td>\n",
              "      <td>216.650000</td>\n",
              "      <td>02/1979</td>\n",
              "    </tr>\n",
              "    <tr>\n",
              "      <th>2</th>\n",
              "      <td>1979</td>\n",
              "      <td>3</td>\n",
              "      <td>10.1</td>\n",
              "      <td>87.280</td>\n",
              "      <td>242.063636</td>\n",
              "      <td>118.795454</td>\n",
              "      <td>1974.931818</td>\n",
              "      <td>204.359091</td>\n",
              "      <td>215.945454</td>\n",
              "      <td>03/1979</td>\n",
              "    </tr>\n",
              "    <tr>\n",
              "      <th>3</th>\n",
              "      <td>1979</td>\n",
              "      <td>4</td>\n",
              "      <td>10.5</td>\n",
              "      <td>88.228</td>\n",
              "      <td>238.685714</td>\n",
              "      <td>115.138095</td>\n",
              "      <td>1956.809524</td>\n",
              "      <td>202.347619</td>\n",
              "      <td>215.414286</td>\n",
              "      <td>04/1979</td>\n",
              "    </tr>\n",
              "    <tr>\n",
              "      <th>4</th>\n",
              "      <td>1979</td>\n",
              "      <td>5</td>\n",
              "      <td>10.9</td>\n",
              "      <td>89.270</td>\n",
              "      <td>257.800000</td>\n",
              "      <td>125.230435</td>\n",
              "      <td>2119.934783</td>\n",
              "      <td>217.695652</td>\n",
              "      <td>233.165217</td>\n",
              "      <td>05/1979</td>\n",
              "    </tr>\n",
              "  </tbody>\n",
              "</table>\n",
              "</div>"
            ],
            "text/plain": [
              "   Year  Month  Inflation_Value  ...  south_african_rand  australian_dollar     Date\n",
              "0  1979      1              9.3  ...          197.018182         198.600000  01/1979\n",
              "1  1979      2              9.9  ...          209.860000         216.650000  02/1979\n",
              "2  1979      3             10.1  ...          204.359091         215.945454  03/1979\n",
              "3  1979      4             10.5  ...          202.347619         215.414286  04/1979\n",
              "4  1979      5             10.9  ...          217.695652         233.165217  05/1979\n",
              "\n",
              "[5 rows x 10 columns]"
            ]
          },
          "metadata": {
            "tags": []
          },
          "execution_count": 19
        }
      ]
    },
    {
      "cell_type": "code",
      "metadata": {
        "colab": {
          "base_uri": "https://localhost:8080/",
          "height": 205
        },
        "id": "I_PFVcM-9tYn",
        "outputId": "1ba73682-9951-4cca-cbf6-7c0332645ae0"
      },
      "source": [
        "prediction_df = prediction_df[['Date', 'Inflation_Value', 'dollar_index', 'us_dollar', 'pound', 'indian_rupee', 'south_african_rand', 'australian_dollar']]\n",
        "prediction_df.head()"
      ],
      "execution_count": 20,
      "outputs": [
        {
          "output_type": "execute_result",
          "data": {
            "text/html": [
              "<div>\n",
              "<style scoped>\n",
              "    .dataframe tbody tr th:only-of-type {\n",
              "        vertical-align: middle;\n",
              "    }\n",
              "\n",
              "    .dataframe tbody tr th {\n",
              "        vertical-align: top;\n",
              "    }\n",
              "\n",
              "    .dataframe thead th {\n",
              "        text-align: right;\n",
              "    }\n",
              "</style>\n",
              "<table border=\"1\" class=\"dataframe\">\n",
              "  <thead>\n",
              "    <tr style=\"text-align: right;\">\n",
              "      <th></th>\n",
              "      <th>Date</th>\n",
              "      <th>Inflation_Value</th>\n",
              "      <th>dollar_index</th>\n",
              "      <th>us_dollar</th>\n",
              "      <th>pound</th>\n",
              "      <th>indian_rupee</th>\n",
              "      <th>south_african_rand</th>\n",
              "      <th>australian_dollar</th>\n",
              "    </tr>\n",
              "  </thead>\n",
              "  <tbody>\n",
              "    <tr>\n",
              "      <th>0</th>\n",
              "      <td>01/1979</td>\n",
              "      <td>9.3</td>\n",
              "      <td>86.239</td>\n",
              "      <td>227.290909</td>\n",
              "      <td>113.327273</td>\n",
              "      <td>1852.859091</td>\n",
              "      <td>197.018182</td>\n",
              "      <td>198.600000</td>\n",
              "    </tr>\n",
              "    <tr>\n",
              "      <th>1</th>\n",
              "      <td>02/1979</td>\n",
              "      <td>9.9</td>\n",
              "      <td>87.082</td>\n",
              "      <td>245.690000</td>\n",
              "      <td>122.555000</td>\n",
              "      <td>2010.370000</td>\n",
              "      <td>209.860000</td>\n",
              "      <td>216.650000</td>\n",
              "    </tr>\n",
              "    <tr>\n",
              "      <th>2</th>\n",
              "      <td>03/1979</td>\n",
              "      <td>10.1</td>\n",
              "      <td>87.280</td>\n",
              "      <td>242.063636</td>\n",
              "      <td>118.795454</td>\n",
              "      <td>1974.931818</td>\n",
              "      <td>204.359091</td>\n",
              "      <td>215.945454</td>\n",
              "    </tr>\n",
              "    <tr>\n",
              "      <th>3</th>\n",
              "      <td>04/1979</td>\n",
              "      <td>10.5</td>\n",
              "      <td>88.228</td>\n",
              "      <td>238.685714</td>\n",
              "      <td>115.138095</td>\n",
              "      <td>1956.809524</td>\n",
              "      <td>202.347619</td>\n",
              "      <td>215.414286</td>\n",
              "    </tr>\n",
              "    <tr>\n",
              "      <th>4</th>\n",
              "      <td>05/1979</td>\n",
              "      <td>10.9</td>\n",
              "      <td>89.270</td>\n",
              "      <td>257.800000</td>\n",
              "      <td>125.230435</td>\n",
              "      <td>2119.934783</td>\n",
              "      <td>217.695652</td>\n",
              "      <td>233.165217</td>\n",
              "    </tr>\n",
              "  </tbody>\n",
              "</table>\n",
              "</div>"
            ],
            "text/plain": [
              "      Date  Inflation_Value  ...  south_african_rand  australian_dollar\n",
              "0  01/1979              9.3  ...          197.018182         198.600000\n",
              "1  02/1979              9.9  ...          209.860000         216.650000\n",
              "2  03/1979             10.1  ...          204.359091         215.945454\n",
              "3  04/1979             10.5  ...          202.347619         215.414286\n",
              "4  05/1979             10.9  ...          217.695652         233.165217\n",
              "\n",
              "[5 rows x 8 columns]"
            ]
          },
          "metadata": {
            "tags": []
          },
          "execution_count": 20
        }
      ]
    },
    {
      "cell_type": "code",
      "metadata": {
        "colab": {
          "base_uri": "https://localhost:8080/"
        },
        "id": "beSA__JLAnTc",
        "outputId": "b3aca18e-bfb5-4fac-eae3-502f59e6a38f"
      },
      "source": [
        "prediction_df.dtypes"
      ],
      "execution_count": 22,
      "outputs": [
        {
          "output_type": "execute_result",
          "data": {
            "text/plain": [
              "Date                   object\n",
              "Inflation_Value       float64\n",
              "dollar_index          float64\n",
              "us_dollar             float64\n",
              "pound                 float64\n",
              "indian_rupee          float64\n",
              "south_african_rand    float64\n",
              "australian_dollar     float64\n",
              "dtype: object"
            ]
          },
          "metadata": {
            "tags": []
          },
          "execution_count": 22
        }
      ]
    },
    {
      "cell_type": "markdown",
      "metadata": {
        "id": "TODQ_Yk9A_Pl"
      },
      "source": [
        "# **Saving Cleaned DataFrame to .CSV**"
      ]
    },
    {
      "cell_type": "code",
      "metadata": {
        "id": "-XXeEdVGAXqN"
      },
      "source": [
        "prediction_df.to_csv('/content/drive/MyDrive/Gold-Projections/celine-work/datetime_gold_predictions.csv')"
      ],
      "execution_count": 21,
      "outputs": []
    }
  ]
}