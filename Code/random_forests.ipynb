{
  "nbformat": 4,
  "nbformat_minor": 0,
  "metadata": {
    "colab": {
      "name": "random_forests.ipynb",
      "provenance": [],
      "authorship_tag": "ABX9TyM/DJNptiD1OLi/anmuwfPK",
      "include_colab_link": true
    },
    "kernelspec": {
      "name": "python3",
      "display_name": "Python 3"
    },
    "language_info": {
      "name": "python"
    }
  },
  "cells": [
    {
      "cell_type": "markdown",
      "metadata": {
        "id": "view-in-github",
        "colab_type": "text"
      },
      "source": [
        "<a href=\"https://colab.research.google.com/github/cjvilla/Gold-Projections/blob/main/Code/random_forests.ipynb\" target=\"_parent\"><img src=\"https://colab.research.google.com/assets/colab-badge.svg\" alt=\"Open In Colab\"/></a>"
      ]
    },
    {
      "cell_type": "code",
      "metadata": {
        "id": "TV-kdDpFUffu"
      },
      "source": [
        "import pandas as pd\n",
        "import numpy as np\n",
        "from sklearn.ensemble import RandomForestClassifier"
      ],
      "execution_count": 1,
      "outputs": []
    },
    {
      "cell_type": "code",
      "metadata": {
        "colab": {
          "base_uri": "https://localhost:8080/"
        },
        "id": "BZLc8xDQUjIC",
        "outputId": "ca2877cd-7734-490d-ded1-2376c5c628f3"
      },
      "source": [
        "from google.colab import drive\n",
        "drive.mount('/content/drive')"
      ],
      "execution_count": 2,
      "outputs": [
        {
          "output_type": "stream",
          "text": [
            "Mounted at /content/drive\n"
          ],
          "name": "stdout"
        }
      ]
    },
    {
      "cell_type": "code",
      "metadata": {
        "colab": {
          "base_uri": "https://localhost:8080/",
          "height": 205
        },
        "id": "BlMxNG44UyqI",
        "outputId": "7a48c8a8-38b5-45a0-b82e-a5b24ffa7c05"
      },
      "source": [
        "data = pd.read_csv('/content/drive/MyDrive/Gold-Projections/celine-work/datetime_gold_predictions.csv')\n",
        "data = data.drop(columns=['Unnamed: 0'])\n",
        "data.head()"
      ],
      "execution_count": 5,
      "outputs": [
        {
          "output_type": "execute_result",
          "data": {
            "text/html": [
              "<div>\n",
              "<style scoped>\n",
              "    .dataframe tbody tr th:only-of-type {\n",
              "        vertical-align: middle;\n",
              "    }\n",
              "\n",
              "    .dataframe tbody tr th {\n",
              "        vertical-align: top;\n",
              "    }\n",
              "\n",
              "    .dataframe thead th {\n",
              "        text-align: right;\n",
              "    }\n",
              "</style>\n",
              "<table border=\"1\" class=\"dataframe\">\n",
              "  <thead>\n",
              "    <tr style=\"text-align: right;\">\n",
              "      <th></th>\n",
              "      <th>Date</th>\n",
              "      <th>Inflation_Value</th>\n",
              "      <th>dollar_index</th>\n",
              "      <th>us_dollar</th>\n",
              "      <th>pound</th>\n",
              "      <th>indian_rupee</th>\n",
              "      <th>south_african_rand</th>\n",
              "      <th>australian_dollar</th>\n",
              "    </tr>\n",
              "  </thead>\n",
              "  <tbody>\n",
              "    <tr>\n",
              "      <th>0</th>\n",
              "      <td>01/1979</td>\n",
              "      <td>9.3</td>\n",
              "      <td>86.239</td>\n",
              "      <td>227.290909</td>\n",
              "      <td>113.327273</td>\n",
              "      <td>1852.859091</td>\n",
              "      <td>197.018182</td>\n",
              "      <td>198.600000</td>\n",
              "    </tr>\n",
              "    <tr>\n",
              "      <th>1</th>\n",
              "      <td>02/1979</td>\n",
              "      <td>9.9</td>\n",
              "      <td>87.082</td>\n",
              "      <td>245.690000</td>\n",
              "      <td>122.555000</td>\n",
              "      <td>2010.370000</td>\n",
              "      <td>209.860000</td>\n",
              "      <td>216.650000</td>\n",
              "    </tr>\n",
              "    <tr>\n",
              "      <th>2</th>\n",
              "      <td>03/1979</td>\n",
              "      <td>10.1</td>\n",
              "      <td>87.280</td>\n",
              "      <td>242.063636</td>\n",
              "      <td>118.795455</td>\n",
              "      <td>1974.931818</td>\n",
              "      <td>204.359091</td>\n",
              "      <td>215.945455</td>\n",
              "    </tr>\n",
              "    <tr>\n",
              "      <th>3</th>\n",
              "      <td>04/1979</td>\n",
              "      <td>10.5</td>\n",
              "      <td>88.228</td>\n",
              "      <td>238.685714</td>\n",
              "      <td>115.138095</td>\n",
              "      <td>1956.809524</td>\n",
              "      <td>202.347619</td>\n",
              "      <td>215.414286</td>\n",
              "    </tr>\n",
              "    <tr>\n",
              "      <th>4</th>\n",
              "      <td>05/1979</td>\n",
              "      <td>10.9</td>\n",
              "      <td>89.270</td>\n",
              "      <td>257.800000</td>\n",
              "      <td>125.230435</td>\n",
              "      <td>2119.934783</td>\n",
              "      <td>217.695652</td>\n",
              "      <td>233.165217</td>\n",
              "    </tr>\n",
              "  </tbody>\n",
              "</table>\n",
              "</div>"
            ],
            "text/plain": [
              "      Date  Inflation_Value  ...  south_african_rand  australian_dollar\n",
              "0  01/1979              9.3  ...          197.018182         198.600000\n",
              "1  02/1979              9.9  ...          209.860000         216.650000\n",
              "2  03/1979             10.1  ...          204.359091         215.945455\n",
              "3  04/1979             10.5  ...          202.347619         215.414286\n",
              "4  05/1979             10.9  ...          217.695652         233.165217\n",
              "\n",
              "[5 rows x 8 columns]"
            ]
          },
          "metadata": {
            "tags": []
          },
          "execution_count": 5
        }
      ]
    },
    {
      "cell_type": "code",
      "metadata": {
        "id": "FCTIFXFVVuYg"
      },
      "source": [
        ""
      ],
      "execution_count": null,
      "outputs": []
    }
  ]
}