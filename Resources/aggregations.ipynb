{
 "metadata": {
  "language_info": {
   "codemirror_mode": {
    "name": "ipython",
    "version": 3
   },
   "file_extension": ".py",
   "mimetype": "text/x-python",
   "name": "python",
   "nbconvert_exporter": "python",
   "pygments_lexer": "ipython3",
   "version": "3.9.0"
  },
  "orig_nbformat": 2,
  "kernelspec": {
   "name": "python390jvsc74a57bd0aee8b7b246df8f9039afb4144a1f6fd8d2ca17a180786b69acc140d282b71a49",
   "display_name": "Python 3.9.0 64-bit"
  },
  "metadata": {
   "interpreter": {
    "hash": "aee8b7b246df8f9039afb4144a1f6fd8d2ca17a180786b69acc140d282b71a49"
   }
  }
 },
 "nbformat": 4,
 "nbformat_minor": 2,
 "cells": [
  {
   "cell_type": "code",
   "execution_count": 1,
   "metadata": {},
   "outputs": [
    {
     "output_type": "execute_result",
     "data": {
      "text/plain": [
       "     Date  US dollar   Euro  Japanese yen  Pound sterling  Canadian dollar  \\\n",
       "0  1/2/79      226.8  137.3       43164.9           111.5            263.7   \n",
       "1  1/3/79      218.6  134.0       43717.9           108.0            264.4   \n",
       "2  1/4/79      223.2  136.8       43674.9           110.7            264.1   \n",
       "3  1/5/79      225.5  138.4       44582.5           111.6            268.4   \n",
       "4  1/8/79      223.1  136.4       44436.2           110.2            269.5   \n",
       "\n",
       "   Swiss franc  Indian rupee  Saudi riyal  UAE dirham  Thai baht  Korean won  \\\n",
       "0        359.6        1792.9        735.6       851.3     4454.6    107470.0   \n",
       "1        365.9        1802.2        739.4       855.7     4477.7    108027.4   \n",
       "2        366.4        1811.7        743.4       860.3     4501.5    108602.5   \n",
       "3        373.7        1843.6        756.4       875.4     4580.6    110510.4   \n",
       "4        372.6        1841.3        750.9       869.7     4574.2    110356.3   \n",
       "\n",
       "   South African rand  Australian dollar  \n",
       "0               194.6              193.6  \n",
       "1               192.2              193.0  \n",
       "2               193.0              194.6  \n",
       "3               196.4              197.9  \n",
       "4               197.2              197.9  "
      ],
      "text/html": "<div>\n<style scoped>\n    .dataframe tbody tr th:only-of-type {\n        vertical-align: middle;\n    }\n\n    .dataframe tbody tr th {\n        vertical-align: top;\n    }\n\n    .dataframe thead th {\n        text-align: right;\n    }\n</style>\n<table border=\"1\" class=\"dataframe\">\n  <thead>\n    <tr style=\"text-align: right;\">\n      <th></th>\n      <th>Date</th>\n      <th>US dollar</th>\n      <th>Euro</th>\n      <th>Japanese yen</th>\n      <th>Pound sterling</th>\n      <th>Canadian dollar</th>\n      <th>Swiss franc</th>\n      <th>Indian rupee</th>\n      <th>Saudi riyal</th>\n      <th>UAE dirham</th>\n      <th>Thai baht</th>\n      <th>Korean won</th>\n      <th>South African rand</th>\n      <th>Australian dollar</th>\n    </tr>\n  </thead>\n  <tbody>\n    <tr>\n      <th>0</th>\n      <td>1/2/79</td>\n      <td>226.8</td>\n      <td>137.3</td>\n      <td>43164.9</td>\n      <td>111.5</td>\n      <td>263.7</td>\n      <td>359.6</td>\n      <td>1792.9</td>\n      <td>735.6</td>\n      <td>851.3</td>\n      <td>4454.6</td>\n      <td>107470.0</td>\n      <td>194.6</td>\n      <td>193.6</td>\n    </tr>\n    <tr>\n      <th>1</th>\n      <td>1/3/79</td>\n      <td>218.6</td>\n      <td>134.0</td>\n      <td>43717.9</td>\n      <td>108.0</td>\n      <td>264.4</td>\n      <td>365.9</td>\n      <td>1802.2</td>\n      <td>739.4</td>\n      <td>855.7</td>\n      <td>4477.7</td>\n      <td>108027.4</td>\n      <td>192.2</td>\n      <td>193.0</td>\n    </tr>\n    <tr>\n      <th>2</th>\n      <td>1/4/79</td>\n      <td>223.2</td>\n      <td>136.8</td>\n      <td>43674.9</td>\n      <td>110.7</td>\n      <td>264.1</td>\n      <td>366.4</td>\n      <td>1811.7</td>\n      <td>743.4</td>\n      <td>860.3</td>\n      <td>4501.5</td>\n      <td>108602.5</td>\n      <td>193.0</td>\n      <td>194.6</td>\n    </tr>\n    <tr>\n      <th>3</th>\n      <td>1/5/79</td>\n      <td>225.5</td>\n      <td>138.4</td>\n      <td>44582.5</td>\n      <td>111.6</td>\n      <td>268.4</td>\n      <td>373.7</td>\n      <td>1843.6</td>\n      <td>756.4</td>\n      <td>875.4</td>\n      <td>4580.6</td>\n      <td>110510.4</td>\n      <td>196.4</td>\n      <td>197.9</td>\n    </tr>\n    <tr>\n      <th>4</th>\n      <td>1/8/79</td>\n      <td>223.1</td>\n      <td>136.4</td>\n      <td>44436.2</td>\n      <td>110.2</td>\n      <td>269.5</td>\n      <td>372.6</td>\n      <td>1841.3</td>\n      <td>750.9</td>\n      <td>869.7</td>\n      <td>4574.2</td>\n      <td>110356.3</td>\n      <td>197.2</td>\n      <td>197.9</td>\n    </tr>\n  </tbody>\n</table>\n</div>"
     },
     "metadata": {},
     "execution_count": 1
    }
   ],
   "source": [
    "import pandas as pd\n",
    "import csv\n",
    "import os\n",
    "\n",
    "prices = pd.read_csv(\"Gold_Prices.csv\")\n",
    "prices.head()"
   ]
  },
  {
   "cell_type": "code",
   "execution_count": null,
   "metadata": {},
   "outputs": [],
   "source": []
  }
 ]
}