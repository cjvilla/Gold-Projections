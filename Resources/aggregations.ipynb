{
 "metadata": {
  "language_info": {
   "codemirror_mode": {
    "name": "ipython",
    "version": 3
   },
   "file_extension": ".py",
   "mimetype": "text/x-python",
   "name": "python",
   "nbconvert_exporter": "python",
   "pygments_lexer": "ipython3",
   "version": "3.9.0"
  },
  "orig_nbformat": 2,
  "kernelspec": {
   "name": "python390jvsc74a57bd0aee8b7b246df8f9039afb4144a1f6fd8d2ca17a180786b69acc140d282b71a49",
   "display_name": "Python 3.9.0 64-bit"
  },
  "metadata": {
   "interpreter": {
    "hash": "aee8b7b246df8f9039afb4144a1f6fd8d2ca17a180786b69acc140d282b71a49"
   }
  }
 },
 "nbformat": 4,
 "nbformat_minor": 2,
 "cells": [
  {
   "cell_type": "code",
   "execution_count": 1,
   "metadata": {},
   "outputs": [
    {
     "output_type": "execute_result",
     "data": {
      "text/plain": [
       "     Date  US dollar   Euro  Japanese yen  Pound sterling  Canadian dollar  \\\n",
       "0  1/2/79      226.8  137.3       43164.9           111.5            263.7   \n",
       "1  1/3/79      218.6  134.0       43717.9           108.0            264.4   \n",
       "2  1/4/79      223.2  136.8       43674.9           110.7            264.1   \n",
       "3  1/5/79      225.5  138.4       44582.5           111.6            268.4   \n",
       "4  1/8/79      223.1  136.4       44436.2           110.2            269.5   \n",
       "\n",
       "   Swiss franc  Indian rupee  Saudi riyal  UAE dirham  Thai baht  Korean won  \\\n",
       "0        359.6        1792.9        735.6       851.3     4454.6    107470.0   \n",
       "1        365.9        1802.2        739.4       855.7     4477.7    108027.4   \n",
       "2        366.4        1811.7        743.4       860.3     4501.5    108602.5   \n",
       "3        373.7        1843.6        756.4       875.4     4580.6    110510.4   \n",
       "4        372.6        1841.3        750.9       869.7     4574.2    110356.3   \n",
       "\n",
       "   South African rand  Australian dollar  \n",
       "0               194.6              193.6  \n",
       "1               192.2              193.0  \n",
       "2               193.0              194.6  \n",
       "3               196.4              197.9  \n",
       "4               197.2              197.9  "
      ],
      "text/html": "<div>\n<style scoped>\n    .dataframe tbody tr th:only-of-type {\n        vertical-align: middle;\n    }\n\n    .dataframe tbody tr th {\n        vertical-align: top;\n    }\n\n    .dataframe thead th {\n        text-align: right;\n    }\n</style>\n<table border=\"1\" class=\"dataframe\">\n  <thead>\n    <tr style=\"text-align: right;\">\n      <th></th>\n      <th>Date</th>\n      <th>US dollar</th>\n      <th>Euro</th>\n      <th>Japanese yen</th>\n      <th>Pound sterling</th>\n      <th>Canadian dollar</th>\n      <th>Swiss franc</th>\n      <th>Indian rupee</th>\n      <th>Saudi riyal</th>\n      <th>UAE dirham</th>\n      <th>Thai baht</th>\n      <th>Korean won</th>\n      <th>South African rand</th>\n      <th>Australian dollar</th>\n    </tr>\n  </thead>\n  <tbody>\n    <tr>\n      <th>0</th>\n      <td>1/2/79</td>\n      <td>226.8</td>\n      <td>137.3</td>\n      <td>43164.9</td>\n      <td>111.5</td>\n      <td>263.7</td>\n      <td>359.6</td>\n      <td>1792.9</td>\n      <td>735.6</td>\n      <td>851.3</td>\n      <td>4454.6</td>\n      <td>107470.0</td>\n      <td>194.6</td>\n      <td>193.6</td>\n    </tr>\n    <tr>\n      <th>1</th>\n      <td>1/3/79</td>\n      <td>218.6</td>\n      <td>134.0</td>\n      <td>43717.9</td>\n      <td>108.0</td>\n      <td>264.4</td>\n      <td>365.9</td>\n      <td>1802.2</td>\n      <td>739.4</td>\n      <td>855.7</td>\n      <td>4477.7</td>\n      <td>108027.4</td>\n      <td>192.2</td>\n      <td>193.0</td>\n    </tr>\n    <tr>\n      <th>2</th>\n      <td>1/4/79</td>\n      <td>223.2</td>\n      <td>136.8</td>\n      <td>43674.9</td>\n      <td>110.7</td>\n      <td>264.1</td>\n      <td>366.4</td>\n      <td>1811.7</td>\n      <td>743.4</td>\n      <td>860.3</td>\n      <td>4501.5</td>\n      <td>108602.5</td>\n      <td>193.0</td>\n      <td>194.6</td>\n    </tr>\n    <tr>\n      <th>3</th>\n      <td>1/5/79</td>\n      <td>225.5</td>\n      <td>138.4</td>\n      <td>44582.5</td>\n      <td>111.6</td>\n      <td>268.4</td>\n      <td>373.7</td>\n      <td>1843.6</td>\n      <td>756.4</td>\n      <td>875.4</td>\n      <td>4580.6</td>\n      <td>110510.4</td>\n      <td>196.4</td>\n      <td>197.9</td>\n    </tr>\n    <tr>\n      <th>4</th>\n      <td>1/8/79</td>\n      <td>223.1</td>\n      <td>136.4</td>\n      <td>44436.2</td>\n      <td>110.2</td>\n      <td>269.5</td>\n      <td>372.6</td>\n      <td>1841.3</td>\n      <td>750.9</td>\n      <td>869.7</td>\n      <td>4574.2</td>\n      <td>110356.3</td>\n      <td>197.2</td>\n      <td>197.9</td>\n    </tr>\n  </tbody>\n</table>\n</div>"
     },
     "metadata": {},
     "execution_count": 1
    }
   ],
   "source": [
    "import pandas as pd\n",
    "import csv\n",
    "import os\n",
    "\n",
    "prices = pd.read_csv(\"Gold_Prices.csv\")\n",
    "prices.head()"
   ]
  },
  {
   "cell_type": "code",
   "execution_count": 3,
   "metadata": {},
   "outputs": [],
   "source": [
    "prices['Date'] = pd.to_datetime(prices['Date'])"
   ]
  },
  {
   "cell_type": "code",
   "execution_count": 14,
   "metadata": {},
   "outputs": [
    {
     "output_type": "execute_result",
     "data": {
      "text/plain": [
       "             US dollar        Euro  Japanese yen  Pound sterling  \\\n",
       "Date                                                               \n",
       "1979-01-31  227.290909  139.531818  44853.113636      113.327273   \n",
       "1979-02-28  245.690000  151.310000  49213.155000      122.555000   \n",
       "1979-03-31  242.063636  149.304545  49989.427273      118.795455   \n",
       "1979-04-30  238.685714  148.504762  51574.223810      115.138095   \n",
       "1979-05-31  257.800000  161.121739  56482.600000      125.230435   \n",
       "\n",
       "            Canadian dollar  Swiss franc  Indian rupee  Saudi riyal  \\\n",
       "Date                                                                  \n",
       "1979-01-31       269.545455   378.772727   1852.859091   754.086364   \n",
       "1979-02-28       293.185000   410.595000   2010.370000   822.305000   \n",
       "1979-03-31       284.222727   407.263636   1974.931818   810.145455   \n",
       "1979-04-30       273.609524   409.828571   1956.809524   817.961905   \n",
       "1979-05-31       297.839130   445.634783   2119.934783   871.334783   \n",
       "\n",
       "            UAE dirham    Thai baht     Korean won  South African rand  \\\n",
       "Date                                                                     \n",
       "1979-01-31  869.400000  4582.186364  111186.568182          197.018182   \n",
       "1979-02-28  939.105000  4949.500000  118284.045000          209.860000   \n",
       "1979-03-31  926.236364  4884.522727  116507.063636          204.359091   \n",
       "1979-04-30  918.000000  4832.857143  115259.909524          202.347619   \n",
       "1979-05-31  983.695652  5210.843478  124753.821739          217.695652   \n",
       "\n",
       "            Australian dollar  \n",
       "Date                           \n",
       "1979-01-31         198.600000  \n",
       "1979-02-28         216.650000  \n",
       "1979-03-31         215.945455  \n",
       "1979-04-30         215.414286  \n",
       "1979-05-31         233.165217  "
      ],
      "text/html": "<div>\n<style scoped>\n    .dataframe tbody tr th:only-of-type {\n        vertical-align: middle;\n    }\n\n    .dataframe tbody tr th {\n        vertical-align: top;\n    }\n\n    .dataframe thead th {\n        text-align: right;\n    }\n</style>\n<table border=\"1\" class=\"dataframe\">\n  <thead>\n    <tr style=\"text-align: right;\">\n      <th></th>\n      <th>US dollar</th>\n      <th>Euro</th>\n      <th>Japanese yen</th>\n      <th>Pound sterling</th>\n      <th>Canadian dollar</th>\n      <th>Swiss franc</th>\n      <th>Indian rupee</th>\n      <th>Saudi riyal</th>\n      <th>UAE dirham</th>\n      <th>Thai baht</th>\n      <th>Korean won</th>\n      <th>South African rand</th>\n      <th>Australian dollar</th>\n    </tr>\n    <tr>\n      <th>Date</th>\n      <th></th>\n      <th></th>\n      <th></th>\n      <th></th>\n      <th></th>\n      <th></th>\n      <th></th>\n      <th></th>\n      <th></th>\n      <th></th>\n      <th></th>\n      <th></th>\n      <th></th>\n    </tr>\n  </thead>\n  <tbody>\n    <tr>\n      <th>1979-01-31</th>\n      <td>227.290909</td>\n      <td>139.531818</td>\n      <td>44853.113636</td>\n      <td>113.327273</td>\n      <td>269.545455</td>\n      <td>378.772727</td>\n      <td>1852.859091</td>\n      <td>754.086364</td>\n      <td>869.400000</td>\n      <td>4582.186364</td>\n      <td>111186.568182</td>\n      <td>197.018182</td>\n      <td>198.600000</td>\n    </tr>\n    <tr>\n      <th>1979-02-28</th>\n      <td>245.690000</td>\n      <td>151.310000</td>\n      <td>49213.155000</td>\n      <td>122.555000</td>\n      <td>293.185000</td>\n      <td>410.595000</td>\n      <td>2010.370000</td>\n      <td>822.305000</td>\n      <td>939.105000</td>\n      <td>4949.500000</td>\n      <td>118284.045000</td>\n      <td>209.860000</td>\n      <td>216.650000</td>\n    </tr>\n    <tr>\n      <th>1979-03-31</th>\n      <td>242.063636</td>\n      <td>149.304545</td>\n      <td>49989.427273</td>\n      <td>118.795455</td>\n      <td>284.222727</td>\n      <td>407.263636</td>\n      <td>1974.931818</td>\n      <td>810.145455</td>\n      <td>926.236364</td>\n      <td>4884.522727</td>\n      <td>116507.063636</td>\n      <td>204.359091</td>\n      <td>215.945455</td>\n    </tr>\n    <tr>\n      <th>1979-04-30</th>\n      <td>238.685714</td>\n      <td>148.504762</td>\n      <td>51574.223810</td>\n      <td>115.138095</td>\n      <td>273.609524</td>\n      <td>409.828571</td>\n      <td>1956.809524</td>\n      <td>817.961905</td>\n      <td>918.000000</td>\n      <td>4832.857143</td>\n      <td>115259.909524</td>\n      <td>202.347619</td>\n      <td>215.414286</td>\n    </tr>\n    <tr>\n      <th>1979-05-31</th>\n      <td>257.800000</td>\n      <td>161.121739</td>\n      <td>56482.600000</td>\n      <td>125.230435</td>\n      <td>297.839130</td>\n      <td>445.634783</td>\n      <td>2119.934783</td>\n      <td>871.334783</td>\n      <td>983.695652</td>\n      <td>5210.843478</td>\n      <td>124753.821739</td>\n      <td>217.695652</td>\n      <td>233.165217</td>\n    </tr>\n  </tbody>\n</table>\n</div>"
     },
     "metadata": {},
     "execution_count": 14
    }
   ],
   "source": [
    "monthly_prices = prices.groupby(pd.Grouper(key='Date', freq = 'M')).mean()\n",
    "monthly_prices.head()"
   ]
  },
  {
   "cell_type": "code",
   "execution_count": 6,
   "metadata": {},
   "outputs": [
    {
     "output_type": "execute_result",
     "data": {
      "text/plain": [
       "             US dollar        Euro   Japanese yen  Pound sterling  \\\n",
       "Date                                                                \n",
       "1979-03-31  238.118750  146.571875   47981.234375      118.090625   \n",
       "1979-06-30  258.501538  160.895385   56378.684615      124.201538   \n",
       "1979-09-30  315.703077  190.206154   69089.276923      141.581538   \n",
       "1979-12-31  413.916667  246.643939   98773.866667      191.545455   \n",
       "1980-03-31  630.252308  376.127692  153243.935385      279.272308   \n",
       "\n",
       "            Canadian dollar  Swiss franc  Indian rupee  Saudi riyal  \\\n",
       "Date                                                                  \n",
       "1979-03-31       281.978125   398.510938   1944.043750   794.675000   \n",
       "1979-06-30       299.564615   443.389231   2108.896923   876.696923   \n",
       "1979-09-30       367.958462   517.072308   2517.778462  1060.887692   \n",
       "1979-12-31       486.727273   672.972727   3369.612121  1393.972727   \n",
       "1980-03-31       733.340000  1044.875385   5043.516923  2112.749231   \n",
       "\n",
       "             UAE dirham     Thai baht     Korean won  South African rand  \\\n",
       "Date                                                                       \n",
       "1979-03-31   910.720312   4800.900000  115233.450000          203.554687   \n",
       "1979-06-30   988.664615   5211.943077  124209.755385          218.515385   \n",
       "1979-09-30  1195.429231   6420.269231  153096.298462          264.081538   \n",
       "1979-12-31  1570.353030   8403.963636  200378.080303          342.956061   \n",
       "1980-03-31  2369.169231  12809.687692  343791.578462          513.890769   \n",
       "\n",
       "            Australian dollar  \n",
       "Date                           \n",
       "1979-03-31         210.203125  \n",
       "1979-06-30         233.232308  \n",
       "1979-09-30         279.850769  \n",
       "1979-12-31         375.313636  \n",
       "1980-03-31         571.766154  "
      ],
      "text/html": "<div>\n<style scoped>\n    .dataframe tbody tr th:only-of-type {\n        vertical-align: middle;\n    }\n\n    .dataframe tbody tr th {\n        vertical-align: top;\n    }\n\n    .dataframe thead th {\n        text-align: right;\n    }\n</style>\n<table border=\"1\" class=\"dataframe\">\n  <thead>\n    <tr style=\"text-align: right;\">\n      <th></th>\n      <th>US dollar</th>\n      <th>Euro</th>\n      <th>Japanese yen</th>\n      <th>Pound sterling</th>\n      <th>Canadian dollar</th>\n      <th>Swiss franc</th>\n      <th>Indian rupee</th>\n      <th>Saudi riyal</th>\n      <th>UAE dirham</th>\n      <th>Thai baht</th>\n      <th>Korean won</th>\n      <th>South African rand</th>\n      <th>Australian dollar</th>\n    </tr>\n    <tr>\n      <th>Date</th>\n      <th></th>\n      <th></th>\n      <th></th>\n      <th></th>\n      <th></th>\n      <th></th>\n      <th></th>\n      <th></th>\n      <th></th>\n      <th></th>\n      <th></th>\n      <th></th>\n      <th></th>\n    </tr>\n  </thead>\n  <tbody>\n    <tr>\n      <th>1979-03-31</th>\n      <td>238.118750</td>\n      <td>146.571875</td>\n      <td>47981.234375</td>\n      <td>118.090625</td>\n      <td>281.978125</td>\n      <td>398.510938</td>\n      <td>1944.043750</td>\n      <td>794.675000</td>\n      <td>910.720312</td>\n      <td>4800.900000</td>\n      <td>115233.450000</td>\n      <td>203.554687</td>\n      <td>210.203125</td>\n    </tr>\n    <tr>\n      <th>1979-06-30</th>\n      <td>258.501538</td>\n      <td>160.895385</td>\n      <td>56378.684615</td>\n      <td>124.201538</td>\n      <td>299.564615</td>\n      <td>443.389231</td>\n      <td>2108.896923</td>\n      <td>876.696923</td>\n      <td>988.664615</td>\n      <td>5211.943077</td>\n      <td>124209.755385</td>\n      <td>218.515385</td>\n      <td>233.232308</td>\n    </tr>\n    <tr>\n      <th>1979-09-30</th>\n      <td>315.703077</td>\n      <td>190.206154</td>\n      <td>69089.276923</td>\n      <td>141.581538</td>\n      <td>367.958462</td>\n      <td>517.072308</td>\n      <td>2517.778462</td>\n      <td>1060.887692</td>\n      <td>1195.429231</td>\n      <td>6420.269231</td>\n      <td>153096.298462</td>\n      <td>264.081538</td>\n      <td>279.850769</td>\n    </tr>\n    <tr>\n      <th>1979-12-31</th>\n      <td>413.916667</td>\n      <td>246.643939</td>\n      <td>98773.866667</td>\n      <td>191.545455</td>\n      <td>486.727273</td>\n      <td>672.972727</td>\n      <td>3369.612121</td>\n      <td>1393.972727</td>\n      <td>1570.353030</td>\n      <td>8403.963636</td>\n      <td>200378.080303</td>\n      <td>342.956061</td>\n      <td>375.313636</td>\n    </tr>\n    <tr>\n      <th>1980-03-31</th>\n      <td>630.252308</td>\n      <td>376.127692</td>\n      <td>153243.935385</td>\n      <td>279.272308</td>\n      <td>733.340000</td>\n      <td>1044.875385</td>\n      <td>5043.516923</td>\n      <td>2112.749231</td>\n      <td>2369.169231</td>\n      <td>12809.687692</td>\n      <td>343791.578462</td>\n      <td>513.890769</td>\n      <td>571.766154</td>\n    </tr>\n  </tbody>\n</table>\n</div>"
     },
     "metadata": {},
     "execution_count": 6
    }
   ],
   "source": [
    "quarterly_prices = prices.groupby(pd.Grouper(key='Date', freq = 'Q')).mean()\n",
    "quarterly_prices.head()"
   ]
  },
  {
   "cell_type": "code",
   "execution_count": 10,
   "metadata": {},
   "outputs": [
    {
     "output_type": "execute_result",
     "data": {
      "text/plain": [
       "             US dollar        Euro   Japanese yen  Pound sterling  \\\n",
       "Date                                                                \n",
       "1979-03-31  238.118750  146.571875   47981.234375      118.090625   \n",
       "1979-06-30  258.501538  160.895385   56378.684615      124.201538   \n",
       "1979-09-30  315.703077  190.206154   69089.276923      141.581538   \n",
       "1979-12-31  413.916667  246.643939   98773.866667      191.545455   \n",
       "1980-03-31  630.252308  376.127692  153243.935385      279.272308   \n",
       "\n",
       "            Canadian dollar  Swiss franc  Indian rupee  Saudi riyal  \\\n",
       "Date                                                                  \n",
       "1979-03-31       281.978125   398.510938   1944.043750   794.675000   \n",
       "1979-06-30       299.564615   443.389231   2108.896923   876.696923   \n",
       "1979-09-30       367.958462   517.072308   2517.778462  1060.887692   \n",
       "1979-12-31       486.727273   672.972727   3369.612121  1393.972727   \n",
       "1980-03-31       733.340000  1044.875385   5043.516923  2112.749231   \n",
       "\n",
       "             UAE dirham     Thai baht     Korean won  South African rand  \\\n",
       "Date                                                                       \n",
       "1979-03-31   910.720312   4800.900000  115233.450000          203.554687   \n",
       "1979-06-30   988.664615   5211.943077  124209.755385          218.515385   \n",
       "1979-09-30  1195.429231   6420.269231  153096.298462          264.081538   \n",
       "1979-12-31  1570.353030   8403.963636  200378.080303          342.956061   \n",
       "1980-03-31  2369.169231  12809.687692  343791.578462          513.890769   \n",
       "\n",
       "            Australian dollar  Quarter  \n",
       "Date                                    \n",
       "1979-03-31         210.203125        1  \n",
       "1979-06-30         233.232308        2  \n",
       "1979-09-30         279.850769        3  \n",
       "1979-12-31         375.313636        4  \n",
       "1980-03-31         571.766154        1  "
      ],
      "text/html": "<div>\n<style scoped>\n    .dataframe tbody tr th:only-of-type {\n        vertical-align: middle;\n    }\n\n    .dataframe tbody tr th {\n        vertical-align: top;\n    }\n\n    .dataframe thead th {\n        text-align: right;\n    }\n</style>\n<table border=\"1\" class=\"dataframe\">\n  <thead>\n    <tr style=\"text-align: right;\">\n      <th></th>\n      <th>US dollar</th>\n      <th>Euro</th>\n      <th>Japanese yen</th>\n      <th>Pound sterling</th>\n      <th>Canadian dollar</th>\n      <th>Swiss franc</th>\n      <th>Indian rupee</th>\n      <th>Saudi riyal</th>\n      <th>UAE dirham</th>\n      <th>Thai baht</th>\n      <th>Korean won</th>\n      <th>South African rand</th>\n      <th>Australian dollar</th>\n      <th>Quarter</th>\n    </tr>\n    <tr>\n      <th>Date</th>\n      <th></th>\n      <th></th>\n      <th></th>\n      <th></th>\n      <th></th>\n      <th></th>\n      <th></th>\n      <th></th>\n      <th></th>\n      <th></th>\n      <th></th>\n      <th></th>\n      <th></th>\n      <th></th>\n    </tr>\n  </thead>\n  <tbody>\n    <tr>\n      <th>1979-03-31</th>\n      <td>238.118750</td>\n      <td>146.571875</td>\n      <td>47981.234375</td>\n      <td>118.090625</td>\n      <td>281.978125</td>\n      <td>398.510938</td>\n      <td>1944.043750</td>\n      <td>794.675000</td>\n      <td>910.720312</td>\n      <td>4800.900000</td>\n      <td>115233.450000</td>\n      <td>203.554687</td>\n      <td>210.203125</td>\n      <td>1</td>\n    </tr>\n    <tr>\n      <th>1979-06-30</th>\n      <td>258.501538</td>\n      <td>160.895385</td>\n      <td>56378.684615</td>\n      <td>124.201538</td>\n      <td>299.564615</td>\n      <td>443.389231</td>\n      <td>2108.896923</td>\n      <td>876.696923</td>\n      <td>988.664615</td>\n      <td>5211.943077</td>\n      <td>124209.755385</td>\n      <td>218.515385</td>\n      <td>233.232308</td>\n      <td>2</td>\n    </tr>\n    <tr>\n      <th>1979-09-30</th>\n      <td>315.703077</td>\n      <td>190.206154</td>\n      <td>69089.276923</td>\n      <td>141.581538</td>\n      <td>367.958462</td>\n      <td>517.072308</td>\n      <td>2517.778462</td>\n      <td>1060.887692</td>\n      <td>1195.429231</td>\n      <td>6420.269231</td>\n      <td>153096.298462</td>\n      <td>264.081538</td>\n      <td>279.850769</td>\n      <td>3</td>\n    </tr>\n    <tr>\n      <th>1979-12-31</th>\n      <td>413.916667</td>\n      <td>246.643939</td>\n      <td>98773.866667</td>\n      <td>191.545455</td>\n      <td>486.727273</td>\n      <td>672.972727</td>\n      <td>3369.612121</td>\n      <td>1393.972727</td>\n      <td>1570.353030</td>\n      <td>8403.963636</td>\n      <td>200378.080303</td>\n      <td>342.956061</td>\n      <td>375.313636</td>\n      <td>4</td>\n    </tr>\n    <tr>\n      <th>1980-03-31</th>\n      <td>630.252308</td>\n      <td>376.127692</td>\n      <td>153243.935385</td>\n      <td>279.272308</td>\n      <td>733.340000</td>\n      <td>1044.875385</td>\n      <td>5043.516923</td>\n      <td>2112.749231</td>\n      <td>2369.169231</td>\n      <td>12809.687692</td>\n      <td>343791.578462</td>\n      <td>513.890769</td>\n      <td>571.766154</td>\n      <td>1</td>\n    </tr>\n  </tbody>\n</table>\n</div>"
     },
     "metadata": {},
     "execution_count": 10
    }
   ],
   "source": [
    "quarterly_prices['Quarter'] = quarterly_prices.index\n",
    "quarterly_prices['Quarter'] = quarterly_prices['Quarter'].dt.quarter\n",
    "quarterly_prices.head()"
   ]
  },
  {
   "cell_type": "code",
   "execution_count": 11,
   "metadata": {},
   "outputs": [
    {
     "output_type": "execute_result",
     "data": {
      "text/plain": [
       "             US dollar        Euro   Japanese yen  Pound sterling  \\\n",
       "Date                                                                \n",
       "1979-03-31  238.118750  146.571875   47981.234375      118.090625   \n",
       "1979-06-30  258.501538  160.895385   56378.684615      124.201538   \n",
       "1979-09-30  315.703077  190.206154   69089.276923      141.581538   \n",
       "1979-12-31  413.916667  246.643939   98773.866667      191.545455   \n",
       "1980-03-31  630.252308  376.127692  153243.935385      279.272308   \n",
       "\n",
       "            Canadian dollar  Swiss franc  Indian rupee  Saudi riyal  \\\n",
       "Date                                                                  \n",
       "1979-03-31       281.978125   398.510938   1944.043750   794.675000   \n",
       "1979-06-30       299.564615   443.389231   2108.896923   876.696923   \n",
       "1979-09-30       367.958462   517.072308   2517.778462  1060.887692   \n",
       "1979-12-31       486.727273   672.972727   3369.612121  1393.972727   \n",
       "1980-03-31       733.340000  1044.875385   5043.516923  2112.749231   \n",
       "\n",
       "             UAE dirham     Thai baht     Korean won  South African rand  \\\n",
       "Date                                                                       \n",
       "1979-03-31   910.720312   4800.900000  115233.450000          203.554687   \n",
       "1979-06-30   988.664615   5211.943077  124209.755385          218.515385   \n",
       "1979-09-30  1195.429231   6420.269231  153096.298462          264.081538   \n",
       "1979-12-31  1570.353030   8403.963636  200378.080303          342.956061   \n",
       "1980-03-31  2369.169231  12809.687692  343791.578462          513.890769   \n",
       "\n",
       "            Australian dollar  Quarter  Year  \n",
       "Date                                          \n",
       "1979-03-31         210.203125        1  1979  \n",
       "1979-06-30         233.232308        2  1979  \n",
       "1979-09-30         279.850769        3  1979  \n",
       "1979-12-31         375.313636        4  1979  \n",
       "1980-03-31         571.766154        1  1980  "
      ],
      "text/html": "<div>\n<style scoped>\n    .dataframe tbody tr th:only-of-type {\n        vertical-align: middle;\n    }\n\n    .dataframe tbody tr th {\n        vertical-align: top;\n    }\n\n    .dataframe thead th {\n        text-align: right;\n    }\n</style>\n<table border=\"1\" class=\"dataframe\">\n  <thead>\n    <tr style=\"text-align: right;\">\n      <th></th>\n      <th>US dollar</th>\n      <th>Euro</th>\n      <th>Japanese yen</th>\n      <th>Pound sterling</th>\n      <th>Canadian dollar</th>\n      <th>Swiss franc</th>\n      <th>Indian rupee</th>\n      <th>Saudi riyal</th>\n      <th>UAE dirham</th>\n      <th>Thai baht</th>\n      <th>Korean won</th>\n      <th>South African rand</th>\n      <th>Australian dollar</th>\n      <th>Quarter</th>\n      <th>Year</th>\n    </tr>\n    <tr>\n      <th>Date</th>\n      <th></th>\n      <th></th>\n      <th></th>\n      <th></th>\n      <th></th>\n      <th></th>\n      <th></th>\n      <th></th>\n      <th></th>\n      <th></th>\n      <th></th>\n      <th></th>\n      <th></th>\n      <th></th>\n      <th></th>\n    </tr>\n  </thead>\n  <tbody>\n    <tr>\n      <th>1979-03-31</th>\n      <td>238.118750</td>\n      <td>146.571875</td>\n      <td>47981.234375</td>\n      <td>118.090625</td>\n      <td>281.978125</td>\n      <td>398.510938</td>\n      <td>1944.043750</td>\n      <td>794.675000</td>\n      <td>910.720312</td>\n      <td>4800.900000</td>\n      <td>115233.450000</td>\n      <td>203.554687</td>\n      <td>210.203125</td>\n      <td>1</td>\n      <td>1979</td>\n    </tr>\n    <tr>\n      <th>1979-06-30</th>\n      <td>258.501538</td>\n      <td>160.895385</td>\n      <td>56378.684615</td>\n      <td>124.201538</td>\n      <td>299.564615</td>\n      <td>443.389231</td>\n      <td>2108.896923</td>\n      <td>876.696923</td>\n      <td>988.664615</td>\n      <td>5211.943077</td>\n      <td>124209.755385</td>\n      <td>218.515385</td>\n      <td>233.232308</td>\n      <td>2</td>\n      <td>1979</td>\n    </tr>\n    <tr>\n      <th>1979-09-30</th>\n      <td>315.703077</td>\n      <td>190.206154</td>\n      <td>69089.276923</td>\n      <td>141.581538</td>\n      <td>367.958462</td>\n      <td>517.072308</td>\n      <td>2517.778462</td>\n      <td>1060.887692</td>\n      <td>1195.429231</td>\n      <td>6420.269231</td>\n      <td>153096.298462</td>\n      <td>264.081538</td>\n      <td>279.850769</td>\n      <td>3</td>\n      <td>1979</td>\n    </tr>\n    <tr>\n      <th>1979-12-31</th>\n      <td>413.916667</td>\n      <td>246.643939</td>\n      <td>98773.866667</td>\n      <td>191.545455</td>\n      <td>486.727273</td>\n      <td>672.972727</td>\n      <td>3369.612121</td>\n      <td>1393.972727</td>\n      <td>1570.353030</td>\n      <td>8403.963636</td>\n      <td>200378.080303</td>\n      <td>342.956061</td>\n      <td>375.313636</td>\n      <td>4</td>\n      <td>1979</td>\n    </tr>\n    <tr>\n      <th>1980-03-31</th>\n      <td>630.252308</td>\n      <td>376.127692</td>\n      <td>153243.935385</td>\n      <td>279.272308</td>\n      <td>733.340000</td>\n      <td>1044.875385</td>\n      <td>5043.516923</td>\n      <td>2112.749231</td>\n      <td>2369.169231</td>\n      <td>12809.687692</td>\n      <td>343791.578462</td>\n      <td>513.890769</td>\n      <td>571.766154</td>\n      <td>1</td>\n      <td>1980</td>\n    </tr>\n  </tbody>\n</table>\n</div>"
     },
     "metadata": {},
     "execution_count": 11
    }
   ],
   "source": [
    "quarterly_prices['Year'] = quarterly_prices.index\n",
    "quarterly_prices['Year'] = quarterly_prices['Year'].dt.year\n",
    "quarterly_prices.head()"
   ]
  },
  {
   "cell_type": "code",
   "execution_count": 12,
   "metadata": {},
   "outputs": [],
   "source": [
    "quarterly_prices.to_csv('Quarterly_GoldPrices.csv')"
   ]
  },
  {
   "cell_type": "code",
   "execution_count": 15,
   "metadata": {},
   "outputs": [],
   "source": [
    "monthly_prices.to_csv('Monthly_GoldPrices.csv')"
   ]
  },
  {
   "cell_type": "code",
   "execution_count": null,
   "metadata": {},
   "outputs": [],
   "source": []
  }
 ]
}